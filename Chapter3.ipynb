{
 "cells": [
  {
   "cell_type": "markdown",
   "id": "unlikely-willow",
   "metadata": {},
   "source": [
    "# Chapter 3: Introduction to Keras and TensorFlow"
   ]
  },
  {
   "cell_type": "markdown",
   "id": "recent-tunnel",
   "metadata": {},
   "source": [
    "TensorFlow is more than a library, it's really a platform. \\\n",
    "Keras is a deep-learning API for Python, built on top of TensorFlow.\\\n",
    "Should run keras on GPU instead of CPU"
   ]
  },
  {
   "cell_type": "markdown",
   "id": "congressional-fundamental",
   "metadata": {},
   "source": [
    "## 3.5 First steps with TensorFlow"
   ]
  },
  {
   "cell_type": "markdown",
   "id": "colored-vegetable",
   "metadata": {},
   "source": [
    "* Training deep learning with some concepts\n",
    "    * First (In **TensorFlow**): \n",
    "        * Tensors\n",
    "        * Tensor operations: like addition, relu, and matmul\n",
    "        * Backpropagation: method to compute gradient.\n",
    "    * Second(In **Keras**):\n",
    "        * layers\n",
    "        * loss functions\n",
    "        * Optimizers\n",
    "        * metrics to evaluate models\n",
    "        * training loop\n",
    "        \n",
    "        "
   ]
  },
  {
   "cell_type": "markdown",
   "id": "entitled-sweden",
   "metadata": {},
   "source": [
    "### 3.5.1 Constant tensors and Variable."
   ]
  },
  {
   "cell_type": "code",
   "execution_count": 5,
   "id": "palestinian-savannah",
   "metadata": {},
   "outputs": [],
   "source": [
    "import numpy as np"
   ]
  },
  {
   "cell_type": "code",
   "execution_count": 3,
   "id": "adult-awareness",
   "metadata": {},
   "outputs": [
    {
     "name": "stdout",
     "output_type": "stream",
     "text": [
      "tf.Tensor(\n",
      "[[1.]\n",
      " [1.]], shape=(2, 1), dtype=float32)\n"
     ]
    }
   ],
   "source": [
    "# list 3.1\n",
    "import tensorflow as tf\n",
    "x=tf.ones(shape=(2,1))\n",
    "print(x)\n"
   ]
  },
  {
   "cell_type": "code",
   "execution_count": 9,
   "id": "applied-summary",
   "metadata": {},
   "outputs": [
    {
     "name": "stdout",
     "output_type": "stream",
     "text": [
      "tf.Tensor(\n",
      "[[0.]\n",
      " [0.]], shape=(2, 1), dtype=float32)\n",
      "\n",
      "\n",
      "float64\n"
     ]
    }
   ],
   "source": [
    "x=tf.zeros(shape=(2,1))\n",
    "print(x)\n",
    "print('\\n')\n",
    "print(np.ones(shape=(2,1)).dtype)\n",
    "#note: For tensorflow, data is usually processed as float32, but in numpy, it's as float64\n"
   ]
  },
  {
   "cell_type": "code",
   "execution_count": 10,
   "id": "killing-conditions",
   "metadata": {},
   "outputs": [
    {
     "name": "stdout",
     "output_type": "stream",
     "text": [
      "tf.Tensor(\n",
      "[[ 0.47320917]\n",
      " [ 0.17388937]\n",
      " [-1.0348241 ]], shape=(3, 1), dtype=float32)\n"
     ]
    }
   ],
   "source": [
    "#list 3.2 Random Tensors\n",
    "x=tf.random.normal(shape=(3,1),mean=0., stddev=1.)\n",
    "print(x)"
   ]
  },
  {
   "cell_type": "code",
   "execution_count": 11,
   "id": "broke-violation",
   "metadata": {},
   "outputs": [
    {
     "name": "stdout",
     "output_type": "stream",
     "text": [
      "tf.Tensor(\n",
      "[[0.4395249 ]\n",
      " [0.57577515]\n",
      " [0.07829058]], shape=(3, 1), dtype=float32)\n"
     ]
    }
   ],
   "source": [
    "x=tf.random.uniform(shape=(3,1),minval=0.,maxval=1.)\n",
    "print(x)\n",
    "#To form the uniform distributed data, and set minimum value=0, but maxvalue=1"
   ]
  },
  {
   "cell_type": "markdown",
   "id": "operational-living",
   "metadata": {},
   "source": [
    "**Note**: TensorFlow is **not assignable**, but numpy is **assiganable**. "
   ]
  },
  {
   "cell_type": "code",
   "execution_count": 12,
   "id": "transsexual-metropolitan",
   "metadata": {},
   "outputs": [
    {
     "name": "stdout",
     "output_type": "stream",
     "text": [
      "[[0. 1.]\n",
      " [1. 1.]]\n"
     ]
    }
   ],
   "source": [
    "#In numpy environment\n",
    "x=np.ones(shape=(2,2))\n",
    "x[0,0]=0\n",
    "print(x)\n",
    "#It's changed value."
   ]
  },
  {
   "cell_type": "code",
   "execution_count": 13,
   "id": "sitting-tracy",
   "metadata": {},
   "outputs": [
    {
     "ename": "AttributeError",
     "evalue": "module 'tensorflow' has no attribute 'one'",
     "output_type": "error",
     "traceback": [
      "\u001b[0;31m---------------------------------------------------------------------------\u001b[0m",
      "\u001b[0;31mAttributeError\u001b[0m                            Traceback (most recent call last)",
      "\u001b[0;32m<ipython-input-13-11e31a74e009>\u001b[0m in \u001b[0;36m<module>\u001b[0;34m\u001b[0m\n\u001b[1;32m      1\u001b[0m \u001b[0;31m#In tensorflow environment\u001b[0m\u001b[0;34m\u001b[0m\u001b[0;34m\u001b[0m\u001b[0;34m\u001b[0m\u001b[0m\n\u001b[0;32m----> 2\u001b[0;31m \u001b[0mx\u001b[0m\u001b[0;34m=\u001b[0m\u001b[0mtf\u001b[0m\u001b[0;34m.\u001b[0m\u001b[0mone\u001b[0m\u001b[0;34m(\u001b[0m\u001b[0mshape\u001b[0m\u001b[0;34m=\u001b[0m\u001b[0;34m(\u001b[0m\u001b[0;36m2\u001b[0m\u001b[0;34m,\u001b[0m\u001b[0;36m2\u001b[0m\u001b[0;34m)\u001b[0m\u001b[0;34m)\u001b[0m\u001b[0;34m\u001b[0m\u001b[0;34m\u001b[0m\u001b[0m\n\u001b[0m\u001b[1;32m      3\u001b[0m \u001b[0mx\u001b[0m\u001b[0;34m[\u001b[0m\u001b[0;36m0\u001b[0m\u001b[0;34m,\u001b[0m\u001b[0;36m0\u001b[0m\u001b[0;34m]\u001b[0m\u001b[0;34m=\u001b[0m\u001b[0;36m0\u001b[0m\u001b[0;34m\u001b[0m\u001b[0;34m\u001b[0m\u001b[0m\n\u001b[1;32m      4\u001b[0m \u001b[0mprint\u001b[0m\u001b[0;34m(\u001b[0m\u001b[0mx\u001b[0m\u001b[0;34m)\u001b[0m\u001b[0;34m\u001b[0m\u001b[0;34m\u001b[0m\u001b[0m\n",
      "\u001b[0;31mAttributeError\u001b[0m: module 'tensorflow' has no attribute 'one'"
     ]
    }
   ],
   "source": [
    "#In tensorflow environment\n",
    "x=tf.one(shape=(2,2))\n",
    "x[0,0]=0\n",
    "print(x)\n",
    "#So, the tensorflow value is not changeable, you can see the error below. "
   ]
  },
  {
   "cell_type": "markdown",
   "id": "deluxe-cherry",
   "metadata": {},
   "source": [
    "TensorFlow data is not changeable, but we can change it using ***tf.Variable*** where data is modified in state."
   ]
  },
  {
   "cell_type": "code",
   "execution_count": 14,
   "id": "interstate-charity",
   "metadata": {},
   "outputs": [
    {
     "name": "stdout",
     "output_type": "stream",
     "text": [
      "<tf.Variable 'Variable:0' shape=(3, 1) dtype=float32, numpy=\n",
      "array([[0.39716625],\n",
      "       [0.35166788],\n",
      "       [1.6390318 ]], dtype=float32)>\n"
     ]
    }
   ],
   "source": [
    "#list 3.5\n",
    "v=tf.Variable(initial_value=tf.random.normal(shape=(3,1)))\n",
    "print(v)"
   ]
  },
  {
   "cell_type": "code",
   "execution_count": 15,
   "id": "possible-trial",
   "metadata": {},
   "outputs": [
    {
     "data": {
      "text/plain": [
       "<tf.Variable 'UnreadVariable' shape=(3, 1) dtype=float32, numpy=\n",
       "array([[1.],\n",
       "       [1.],\n",
       "       [1.]], dtype=float32)>"
      ]
     },
     "execution_count": 15,
     "metadata": {},
     "output_type": "execute_result"
    }
   ],
   "source": [
    "#list 3.6 assign a value to a variable\n",
    "v.assign(tf.ones((3,1)))\n",
    "#It did change!"
   ]
  },
  {
   "cell_type": "code",
   "execution_count": 16,
   "id": "solar-technique",
   "metadata": {},
   "outputs": [
    {
     "data": {
      "text/plain": [
       "<tf.Variable 'UnreadVariable' shape=(3, 1) dtype=float32, numpy=\n",
       "array([[3.],\n",
       "       [1.],\n",
       "       [1.]], dtype=float32)>"
      ]
     },
     "execution_count": 16,
     "metadata": {},
     "output_type": "execute_result"
    }
   ],
   "source": [
    "#List 3.7 Assign a value to a subset of a variable\n",
    "v[0,0].assign(3.)"
   ]
  },
  {
   "cell_type": "code",
   "execution_count": 17,
   "id": "subject-hanging",
   "metadata": {},
   "outputs": [
    {
     "data": {
      "text/plain": [
       "<tf.Variable 'UnreadVariable' shape=(3, 1) dtype=float32, numpy=\n",
       "array([[4.],\n",
       "       [2.],\n",
       "       [2.]], dtype=float32)>"
      ]
     },
     "execution_count": 17,
     "metadata": {},
     "output_type": "execute_result"
    }
   ],
   "source": [
    "# List 3.8 using assign_add\n",
    "v.assign_add(tf.ones((3,1)))\n",
    "#Add one to each original value"
   ]
  },
  {
   "cell_type": "markdown",
   "id": "wicked-screen",
   "metadata": {},
   "source": [
    "### 3.5.2 Tensor Operations: Doing math in TensorFlow"
   ]
  },
  {
   "cell_type": "code",
   "execution_count": 19,
   "id": "theoretical-arctic",
   "metadata": {},
   "outputs": [
    {
     "name": "stdout",
     "output_type": "stream",
     "text": [
      "tf.Tensor(\n",
      "[[1. 1.]\n",
      " [1. 1.]], shape=(2, 2), dtype=float32) \n",
      "\n",
      "tf.Tensor(\n",
      "[[4. 4.]\n",
      " [4. 4.]], shape=(2, 2), dtype=float32)\n"
     ]
    }
   ],
   "source": [
    "#List 3.9 A few basic math operationans\n",
    "a=tf.ones((2,2))\n",
    "b=tf.square(a)\n",
    "c=tf.sqrt(a)\n",
    "d=b+c\n",
    "e=tf.matmul(a,b)# Matmul is used to multiply matrix\n",
    "e *=d #Multiply two tensors (element wise)\n",
    "print(c,'\\n')\n",
    "print(e)\n"
   ]
  },
  {
   "cell_type": "markdown",
   "id": "norman-flush",
   "metadata": {},
   "source": [
    "### 3.5.3 A second look at the GradientTape APT"
   ]
  },
  {
   "cell_type": "code",
   "execution_count": null,
   "id": "duplicate-motor",
   "metadata": {},
   "outputs": [],
   "source": []
  }
 ],
 "metadata": {
  "kernelspec": {
   "display_name": "Python 3",
   "language": "python",
   "name": "python3"
  },
  "language_info": {
   "codemirror_mode": {
    "name": "ipython",
    "version": 3
   },
   "file_extension": ".py",
   "mimetype": "text/x-python",
   "name": "python",
   "nbconvert_exporter": "python",
   "pygments_lexer": "ipython3",
   "version": "3.7.3"
  }
 },
 "nbformat": 4,
 "nbformat_minor": 5
}
