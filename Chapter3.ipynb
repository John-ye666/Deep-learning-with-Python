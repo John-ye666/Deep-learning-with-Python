{
 "cells": [
  {
   "cell_type": "markdown",
   "id": "unlikely-willow",
   "metadata": {},
   "source": [
    "# Chapter 3: Introduction to Keras and TensorFlow"
   ]
  },
  {
   "cell_type": "markdown",
   "id": "recent-tunnel",
   "metadata": {},
   "source": [
    "TensorFlow is more than a library, it's really a platform. \\\n",
    "Keras is a deep-learning API for Python, built on top of TensorFlow.\\\n",
    "Should run keras on GPU instead of CPU"
   ]
  },
  {
   "cell_type": "markdown",
   "id": "congressional-fundamental",
   "metadata": {},
   "source": [
    "## 3.5 First steps with TensorFlow"
   ]
  },
  {
   "cell_type": "code",
   "execution_count": null,
   "id": "spanish-terry",
   "metadata": {},
   "outputs": [],
   "source": []
  }
 ],
 "metadata": {
  "kernelspec": {
   "display_name": "Python 3",
   "language": "python",
   "name": "python3"
  },
  "language_info": {
   "codemirror_mode": {
    "name": "ipython",
    "version": 3
   },
   "file_extension": ".py",
   "mimetype": "text/x-python",
   "name": "python",
   "nbconvert_exporter": "python",
   "pygments_lexer": "ipython3",
   "version": "3.7.3"
  }
 },
 "nbformat": 4,
 "nbformat_minor": 5
}
