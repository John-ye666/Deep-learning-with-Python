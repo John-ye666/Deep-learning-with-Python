{
 "cells": [
  {
   "cell_type": "markdown",
   "id": "comprehensive-nudist",
   "metadata": {},
   "source": [
    "# Chapter 2: The mathematical building blocks of neutral networks"
   ]
  },
  {
   "cell_type": "code",
   "execution_count": 4,
   "id": "insured-factory",
   "metadata": {},
   "outputs": [
    {
     "name": "stdout",
     "output_type": "stream",
     "text": [
      "(60000, 28, 28)\n",
      "60000\n",
      "(10000, 28, 28)\n",
      "10000\n",
      "[5 0 4 ... 5 6 8]\n",
      "[7 2 1 ... 4 5 6]\n"
     ]
    }
   ],
   "source": [
    "#List 2.1 Loading the mnist datasets in keras\n",
    "from keras.datasets import mnist\n",
    "(train_images,train_labels),(test_images,test_labels)=mnist.load_data()\n",
    "print(train_images.shape)\n",
    "print(len(train_labels))\n",
    "print(test_images.shape)\n",
    "print(len(test_labels))\n",
    "print(train_labels)\n",
    "print(test_labels)"
   ]
  },
  {
   "cell_type": "code",
   "execution_count": 5,
   "id": "lucky-boost",
   "metadata": {},
   "outputs": [],
   "source": [
    "#list 2.2 The network architecture \n",
    "from tensorflow.keras  import models\n",
    "from tensorflow.keras import layers\n",
    "model=models.Sequential([\n",
    "    layers.Dense(512,activation='relu'),\n",
    "    layers.Dense(10,activation='softmax')])\n",
    "#softmax layer -> the summation of 10 probability scores to 1."
   ]
  },
  {
   "cell_type": "markdown",
   "id": "threaded-membership",
   "metadata": {},
   "source": [
    "**Layers** is like filtration, data in data out. layers and layers consist of deep learning"
   ]
  },
  {
   "cell_type": "code",
   "execution_count": 6,
   "id": "typical-acoustic",
   "metadata": {},
   "outputs": [],
   "source": [
    "#List 2.3 The compilation Step\n",
    "model.compile(optimizer='rmsprop',\n",
    "                loss='sparse_categorical_crossentropy',\n",
    "             metrics=['accuracy'])"
   ]
  },
  {
   "cell_type": "code",
   "execution_count": 8,
   "id": "statutory-foundation",
   "metadata": {},
   "outputs": [],
   "source": [
    "# List 2.4Preparing the image data, aka transforming data\n",
    "train_images=train_images.reshape((60000,28*28))\n",
    "train_images=train_images.astype('float32')/255 #first to 'float32'type, then reshape the value between 0 and 1\n",
    "test_images=test_images.reshape((10000,28*28))\n",
    "test_images=test_images.astype('float32')/255"
   ]
  },
  {
   "cell_type": "markdown",
   "id": "altered-ethernet",
   "metadata": {},
   "source": [
    "Keras  use **fit** method to fit data"
   ]
  },
  {
   "cell_type": "code",
   "execution_count": 9,
   "id": "marine-interim",
   "metadata": {},
   "outputs": [
    {
     "name": "stdout",
     "output_type": "stream",
     "text": [
      "Epoch 1/5\n",
      "469/469 [==============================] - 4s 6ms/step - loss: 1.4695 - accuracy: 0.6660\n",
      "Epoch 2/5\n",
      "469/469 [==============================] - 3s 6ms/step - loss: 0.5842 - accuracy: 0.8542\n",
      "Epoch 3/5\n",
      "469/469 [==============================] - 3s 6ms/step - loss: 0.4097 - accuracy: 0.8887\n",
      "Epoch 4/5\n",
      "469/469 [==============================] - 3s 7ms/step - loss: 0.3525 - accuracy: 0.9007\n",
      "Epoch 5/5\n",
      "469/469 [==============================] - 4s 8ms/step - loss: 0.3236 - accuracy: 0.9076\n"
     ]
    },
    {
     "data": {
      "text/plain": [
       "<tensorflow.python.keras.callbacks.History at 0x7fdad326b4e0>"
      ]
     },
     "execution_count": 9,
     "metadata": {},
     "output_type": "execute_result"
    }
   ],
   "source": [
    "#List 2.5 'Fitting the model'\n",
    "model.fit(train_images,train_labels,epochs=5,batch_size=128)\n",
    "#epochs: times to fit\n",
    "#Note: Very interesting thing, why does my model have less accuracy?"
   ]
  },
  {
   "cell_type": "code",
   "execution_count": 10,
   "id": "contrary-respect",
   "metadata": {},
   "outputs": [
    {
     "data": {
      "text/plain": [
       "array([2.78670559e-05, 6.27630001e-08, 1.40429365e-05, 4.98568290e-04,\n",
       "       1.23577433e-06, 1.70735457e-05, 6.47814646e-09, 9.97736931e-01,\n",
       "       5.41475720e-06, 1.69872167e-03], dtype=float32)"
      ]
     },
     "execution_count": 10,
     "metadata": {},
     "output_type": "execute_result"
    }
   ],
   "source": [
    "#List 2.6 Using the model to make prediction.\n",
    "test_digits=test_images[0:10]\n",
    "prediction=model.predict(test_digits)\n",
    "prediction[0]#predict the first image"
   ]
  },
  {
   "cell_type": "code",
   "execution_count": 11,
   "id": "artistic-liberal",
   "metadata": {},
   "outputs": [
    {
     "data": {
      "text/plain": [
       "7"
      ]
     },
     "execution_count": 11,
     "metadata": {},
     "output_type": "execute_result"
    }
   ],
   "source": [
    "prediction[0].argmax() #7 has the most probability to be our target number"
   ]
  },
  {
   "cell_type": "code",
   "execution_count": 12,
   "id": "sized-marriage",
   "metadata": {},
   "outputs": [
    {
     "data": {
      "text/plain": [
       "0.99773693"
      ]
     },
     "execution_count": 12,
     "metadata": {},
     "output_type": "execute_result"
    }
   ],
   "source": [
    "prediction[0][7]# the number is 7 has the probability over 99.77%"
   ]
  },
  {
   "cell_type": "code",
   "execution_count": 14,
   "id": "resistant-cooking",
   "metadata": {},
   "outputs": [
    {
     "data": {
      "text/plain": [
       "7"
      ]
     },
     "execution_count": 14,
     "metadata": {},
     "output_type": "execute_result"
    }
   ],
   "source": [
    "test_labels[0] #yes, it's 7! Very Accurate!"
   ]
  },
  {
   "cell_type": "code",
   "execution_count": 16,
   "id": "stainless-ordinary",
   "metadata": {},
   "outputs": [
    {
     "name": "stdout",
     "output_type": "stream",
     "text": [
      "313/313 [==============================] - 1s 2ms/step - loss: 0.3030 - accuracy: 0.9112\n",
      "test_acc: 0.9111999869346619\n"
     ]
    }
   ],
   "source": [
    "#2.7 Evaluating the model on new data\n",
    "test_loss,test_acc=model.evaluate(test_images,test_labels)\n",
    "print('test_acc:', test_acc)#It's okay, but still lower than the book."
   ]
  },
  {
   "cell_type": "markdown",
   "id": "handmade-liquid",
   "metadata": {},
   "source": [
    "Beautiful steps above, **7 steps** to make deep learning analysis."
   ]
  },
  {
   "cell_type": "markdown",
   "id": "naughty-button",
   "metadata": {},
   "source": [
    "## 2.2 Data Representations for neutral networks"
   ]
  },
  {
   "cell_type": "markdown",
   "id": "threaded-patient",
   "metadata": {},
   "source": [
    "**Tensors**: it's like a container for data. Tensors are a generalization of matrices to an arbitrary number of \n",
    "    *dimensions* (Dimension in tensor is called  ***axis***)"
   ]
  },
  {
   "cell_type": "markdown",
   "id": "experienced-absorption",
   "metadata": {},
   "source": [
    "### 2.2.1 Scalars (rank-0 tensors)"
   ]
  },
  {
   "cell_type": "markdown",
   "id": "driving-africa",
   "metadata": {},
   "source": [
    "**Scalar** (called: scalar tensor, rank-0 tensor or 0D tensor). float32/64 numbers are scalar tensor. \\\n",
    "**ndim** to display the *axis* of tensor. \\\n",
    "Number of axes is called ***rank***. "
   ]
  },
  {
   "cell_type": "code",
   "execution_count": 17,
   "id": "billion-composer",
   "metadata": {},
   "outputs": [
    {
     "data": {
      "text/plain": [
       "array(12)"
      ]
     },
     "execution_count": 17,
     "metadata": {},
     "output_type": "execute_result"
    }
   ],
   "source": [
    "import numpy as np\n",
    "x=np.array(12)\n",
    "x"
   ]
  },
  {
   "cell_type": "code",
   "execution_count": 18,
   "id": "moral-juice",
   "metadata": {},
   "outputs": [
    {
     "data": {
      "text/plain": [
       "0"
      ]
     },
     "execution_count": 18,
     "metadata": {},
     "output_type": "execute_result"
    }
   ],
   "source": [
    "x.ndim"
   ]
  },
  {
   "cell_type": "markdown",
   "id": "patent-nitrogen",
   "metadata": {},
   "source": [
    "## 2.2.2 Vectors (rank-1 tensors)\\\n",
    "A rank-1 tensor is said to have exactly one axis(dimension)."
   ]
  },
  {
   "cell_type": "code",
   "execution_count": 19,
   "id": "bizarre-parameter",
   "metadata": {},
   "outputs": [
    {
     "data": {
      "text/plain": [
       "array([12,  3,  6, 14,  7])"
      ]
     },
     "execution_count": 19,
     "metadata": {},
     "output_type": "execute_result"
    }
   ],
   "source": [
    "x=np.array([12,3,6,14,7])\n",
    "x"
   ]
  },
  {
   "cell_type": "code",
   "execution_count": 20,
   "id": "qualified-cooling",
   "metadata": {},
   "outputs": [
    {
     "data": {
      "text/plain": [
       "1"
      ]
     },
     "execution_count": 20,
     "metadata": {},
     "output_type": "execute_result"
    }
   ],
   "source": [
    "x.ndim"
   ]
  },
  {
   "cell_type": "markdown",
   "id": "lovely-softball",
   "metadata": {},
   "source": [
    "**Note:** this vector is 5-dimensional ***vector**(only have **one** axis, but 5 dimension along this axis), \n",
    "    **not** ***5D tensor***! Because 5D *tensor* has **5** axises."
   ]
  },
  {
   "cell_type": "code",
   "execution_count": 22,
   "id": "hazardous-beijing",
   "metadata": {},
   "outputs": [
    {
     "data": {
      "text/plain": [
       "2"
      ]
     },
     "execution_count": 22,
     "metadata": {},
     "output_type": "execute_result"
    }
   ],
   "source": [
    "m=np.array([[4],[4],[2],[2]])\n",
    "m.ndim\n",
    "#所以这里m是rank 2 tensors."
   ]
  },
  {
   "cell_type": "markdown",
   "id": "stunning-congress",
   "metadata": {},
   "source": [
    "## 2.2.3 Matrices (Rank-2 tensors)\n",
    "Matrix has two axes (rows and columns)"
   ]
  },
  {
   "cell_type": "code",
   "execution_count": 27,
   "id": "creative-proxy",
   "metadata": {},
   "outputs": [
    {
     "data": {
      "text/plain": [
       "2"
      ]
     },
     "execution_count": 27,
     "metadata": {},
     "output_type": "execute_result"
    }
   ],
   "source": [
    "x=np.array([[5,78,2,34],\n",
    "           [5,335,435,354],\n",
    "           [435,425,654,754]])#can be understood using [] to combine arrays, to become matrix\n",
    "x.ndim"
   ]
  },
  {
   "cell_type": "markdown",
   "id": "stone-offense",
   "metadata": {},
   "source": [
    "## 2.2.4 Rank-3  tensors and higher-rank tensors"
   ]
  },
  {
   "cell_type": "code",
   "execution_count": 29,
   "id": "affecting-cameroon",
   "metadata": {},
   "outputs": [
    {
     "data": {
      "text/plain": [
       "3"
      ]
     },
     "execution_count": 29,
     "metadata": {},
     "output_type": "execute_result"
    }
   ],
   "source": [
    "x=np.array([[[32,543,635,345],\n",
    "            [5432,354,3542,6324]],\n",
    "           [[534,5432,3542,413],\n",
    "           [543,7546,84765,364]]])\n",
    "x.ndim #[[]] to form a matrix, then [many matrices] to become rank-3 tensors."
   ]
  },
  {
   "cell_type": "markdown",
   "id": "electronic-qualification",
   "metadata": {},
   "source": [
    "## 2.2.5 Key attributes"
   ]
  },
  {
   "cell_type": "code",
   "execution_count": 32,
   "id": "ambient-winter",
   "metadata": {},
   "outputs": [
    {
     "name": "stdout",
     "output_type": "stream",
     "text": [
      "Dimension of train_images: 3\n",
      "Shape of train_images: (60000, 28, 28)\n",
      "Data type of train_images: uint8\n"
     ]
    }
   ],
   "source": [
    "from keras.datasets import mnist\n",
    "(train_images,train_labels),(test_images,test_labels)=mnist.load_data()\n",
    "print('Dimension of train_images:', train_images.ndim)\n",
    "print('Shape of train_images:', train_images.shape)\n",
    "print('Data type of train_images:', train_images.dtype)"
   ]
  },
  {
   "cell_type": "code",
   "execution_count": 34,
   "id": "altered-venture",
   "metadata": {},
   "outputs": [
    {
     "data": {
      "image/png": "[encoded data removed]",
      "text/plain": [
       "<Figure size 432x288 with 1 Axes>"
      ]
     },
     "metadata": {
      "needs_background": "light"
     },
     "output_type": "display_data"
    }
   ],
   "source": [
    "#List Displaying the fourth digit\n",
    "digit=train_images[4]#Choose the fourth image\n",
    "import matplotlib.pyplot as plt\n",
    "plt.imshow(digit,cmap=plt.cm.binary)#Show images\n",
    "plt.show()"
   ]
  },
  {
   "cell_type": "code",
   "execution_count": 36,
   "id": "contained-pennsylvania",
   "metadata": {},
   "outputs": [
    {
     "data": {
      "text/plain": [
       "9"
      ]
     },
     "execution_count": 36,
     "metadata": {},
     "output_type": "execute_result"
    }
   ],
   "source": [
    "train_labels[4]# Yes, it's number 9"
   ]
  },
  {
   "cell_type": "markdown",
   "id": "immune-closing",
   "metadata": {},
   "source": [
    "## 2.2.6 Manipulating tensors in Numpy"
   ]
  },
  {
   "cell_type": "code",
   "execution_count": 37,
   "id": "loaded-michael",
   "metadata": {},
   "outputs": [
    {
     "name": "stdout",
     "output_type": "stream",
     "text": [
      "(90, 28, 28)\n"
     ]
    }
   ],
   "source": [
    "#Tensor Slice\n",
    "my_slice=train_images[10:100]\n",
    "print(my_slice.shape)"
   ]
  },
  {
   "cell_type": "code",
   "execution_count": 38,
   "id": "exotic-strategy",
   "metadata": {},
   "outputs": [
    {
     "data": {
      "text/plain": [
       "(90, 28, 28)"
      ]
     },
     "execution_count": 38,
     "metadata": {},
     "output_type": "execute_result"
    }
   ],
   "source": [
    "my_slice=train_images[10:100,:,:]\n",
    "my_slice.shape"
   ]
  },
  {
   "cell_type": "code",
   "execution_count": 39,
   "id": "quiet-seeking",
   "metadata": {},
   "outputs": [
    {
     "data": {
      "text/plain": [
       "(90, 28, 28)"
      ]
     },
     "execution_count": 39,
     "metadata": {},
     "output_type": "execute_result"
    }
   ],
   "source": [
    "my_slice=train_images[10:100,0:28,0:28]\n",
    "my_slice.shape #They are same"
   ]
  },
  {
   "cell_type": "code",
   "execution_count": null,
   "id": "radical-europe",
   "metadata": {},
   "outputs": [],
   "source": [
    "my_slice=train_images[:,14:,14:]#select the right corner of the images\n",
    "my_slice=train_images[:,7:-7,7:-7]# select the middle range of the images"
   ]
  },
  {
   "cell_type": "markdown",
   "id": "studied-singles",
   "metadata": {},
   "source": [
    "## 2.2.7 The notion of data batches"
   ]
  },
  {
   "cell_type": "markdown",
   "id": "veterinary-ribbon",
   "metadata": {},
   "source": [
    "The first axis is usually called the **sample axis** (Sometimes called the *sample dimension*)\\\n",
    "In deep learning, they usually seperate data to different groups (**batchs** in deep learning)\n"
   ]
  },
  {
   "cell_type": "code",
   "execution_count": 40,
   "id": "therapeutic-interest",
   "metadata": {},
   "outputs": [],
   "source": [
    "batch=train_images[:128]# the first batch"
   ]
  },
  {
   "cell_type": "code",
   "execution_count": 41,
   "id": "sporting-terminology",
   "metadata": {},
   "outputs": [],
   "source": [
    "batch=train_images[128:256]# The second batch"
   ]
  },
  {
   "cell_type": "code",
   "execution_count": 42,
   "id": "painful-chambers",
   "metadata": {},
   "outputs": [],
   "source": [
    "# or general batchs method\n",
    "n=3\n",
    "batch=train_images[128*n:128*(n+1)]"
   ]
  },
  {
   "cell_type": "markdown",
   "id": "incoming-roller",
   "metadata": {},
   "source": [
    "In batch tensor, the first axis (axis 0) is usually **Batch axis** or ** bath dimension**."
   ]
  },
  {
   "cell_type": "markdown",
   "id": "useful-fifth",
   "metadata": {},
   "source": [
    "## 2.2.8 Real-world examples of data tensors\n",
    "* Vector-rank2-(samples, features)\n",
    "* Timeseries data or sequence data- rank3-(samples, timesteps,features)\n",
    "* Images-rank4-(samples,height,width,channels)\n",
    "* Videos-rank5-(samples,frames,height,width,channels)"
   ]
  },
  {
   "cell_type": "code",
   "execution_count": null,
   "id": "alone-shock",
   "metadata": {},
   "outputs": [],
   "source": []
  }
 ],
 "metadata": {
  "kernelspec": {
   "display_name": "Python 3",
   "language": "python",
   "name": "python3"
  },
  "language_info": {
   "codemirror_mode": {
    "name": "ipython",
    "version": 3
   },
   "file_extension": ".py",
   "mimetype": "text/x-python",
   "name": "python",
   "nbconvert_exporter": "python",
   "pygments_lexer": "ipython3",
   "version": "3.7.3"
  }
 },
 "nbformat": 4,
 "nbformat_minor": 5
}
